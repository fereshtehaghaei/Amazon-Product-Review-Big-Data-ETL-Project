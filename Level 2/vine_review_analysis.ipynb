{
  "nbformat": 4,
  "nbformat_minor": 0,
  "metadata": {
    "colab": {
      "name": "vine_review_analysis.ipynb",
      "provenance": [],
      "collapsed_sections": []
    },
    "kernelspec": {
      "display_name": "Python 3",
      "name": "python3"
    }
  },
  "cells": [
    {
      "cell_type": "code",
      "metadata": {
        "colab": {
          "base_uri": "https://localhost:8080/"
        },
        "id": "Kujz0DWAcAeM",
        "outputId": "7de2e5ff-321d-471e-f8b4-226c2c00b6f7"
      },
      "source": [
        "import os\n",
        "# Find the latest version of spark 2.0  from http://www-us.apache.org/dist/spark/ and enter as the spark version\n",
        "# For example:\n",
        "spark_version = 'spark-3.0.2'\n",
        "# spark_version = 'spark-3.0.2'\n",
        "os.environ['SPARK_VERSION']=spark_version\n",
        "\n",
        "# Install Spark and Java\n",
        "!apt-get update\n",
        "!apt-get install openjdk-11-jdk-headless -qq > /dev/null\n",
        "!wget -q http://www-us.apache.org/dist/spark/$SPARK_VERSION/$SPARK_VERSION-bin-hadoop2.7.tgz\n",
        "!tar xf $SPARK_VERSION-bin-hadoop2.7.tgz\n",
        "!pip install -q findspark\n",
        "\n",
        "# Set Environment Variables\n",
        "import os\n",
        "os.environ[\"JAVA_HOME\"] = \"/usr/lib/jvm/java-11-openjdk-amd64\"\n",
        "os.environ[\"SPARK_HOME\"] = f\"/content/{spark_version}-bin-hadoop2.7\"\n",
        "\n",
        "# Start a SparkSession\n",
        "import findspark\n",
        "findspark.init()"
      ],
      "execution_count": 1,
      "outputs": [
        {
          "output_type": "stream",
          "text": [
            "\r0% [Working]\r            \rIgn:1 https://developer.download.nvidia.com/compute/cuda/repos/ubuntu1804/x86_64  InRelease\n",
            "\r0% [Connecting to archive.ubuntu.com (91.189.88.152)] [Connecting to security.u\r                                                                               \rGet:2 https://cloud.r-project.org/bin/linux/ubuntu bionic-cran40/ InRelease [3,626 B]\n",
            "\r0% [Connecting to archive.ubuntu.com (91.189.88.152)] [Connecting to security.u\r0% [Connecting to archive.ubuntu.com (91.189.88.152)] [Connecting to security.u\r                                                                               \rIgn:3 https://developer.download.nvidia.com/compute/machine-learning/repos/ubuntu1804/x86_64  InRelease\n",
            "\r0% [Connecting to archive.ubuntu.com (91.189.88.152)] [Waiting for headers] [Co\r0% [2 InRelease gpgv 3,626 B] [Connecting to archive.ubuntu.com (91.189.88.152)\r                                                                               \rGet:4 https://developer.download.nvidia.com/compute/cuda/repos/ubuntu1804/x86_64  Release [697 B]\n",
            "\r0% [2 InRelease gpgv 3,626 B] [Connecting to archive.ubuntu.com (91.189.88.152)\r0% [2 InRelease gpgv 3,626 B] [Connecting to archive.ubuntu.com (91.189.88.152)\r                                                                               \rGet:5 https://developer.download.nvidia.com/compute/machine-learning/repos/ubuntu1804/x86_64  Release [564 B]\n",
            "\r0% [2 InRelease gpgv 3,626 B] [Connecting to archive.ubuntu.com (91.189.88.152)\r0% [2 InRelease gpgv 3,626 B] [Connecting to archive.ubuntu.com (91.189.88.152)\r                                                                               \rGet:6 https://developer.download.nvidia.com/compute/cuda/repos/ubuntu1804/x86_64  Release.gpg [836 B]\n",
            "\r0% [2 InRelease gpgv 3,626 B] [Connecting to archive.ubuntu.com (91.189.88.152)\r0% [2 InRelease gpgv 3,626 B] [Connecting to archive.ubuntu.com (91.189.88.152)\r                                                                               \rGet:7 https://developer.download.nvidia.com/compute/machine-learning/repos/ubuntu1804/x86_64  Release.gpg [833 B]\n",
            "Get:8 http://security.ubuntu.com/ubuntu bionic-security InRelease [88.7 kB]\n",
            "Hit:9 http://archive.ubuntu.com/ubuntu bionic InRelease\n",
            "Get:10 http://archive.ubuntu.com/ubuntu bionic-updates InRelease [88.7 kB]\n",
            "Get:11 http://ppa.launchpad.net/c2d4u.team/c2d4u4.0+/ubuntu bionic InRelease [15.9 kB]\n",
            "Ign:12 https://developer.download.nvidia.com/compute/cuda/repos/ubuntu1804/x86_64  Packages\n",
            "Get:12 https://developer.download.nvidia.com/compute/cuda/repos/ubuntu1804/x86_64  Packages [577 kB]\n",
            "Get:13 https://developer.download.nvidia.com/compute/machine-learning/repos/ubuntu1804/x86_64  Packages [73.8 kB]\n",
            "Hit:14 http://ppa.launchpad.net/cran/libgit2/ubuntu bionic InRelease\n",
            "Get:15 http://archive.ubuntu.com/ubuntu bionic-backports InRelease [74.6 kB]\n",
            "Get:16 http://ppa.launchpad.net/deadsnakes/ppa/ubuntu bionic InRelease [15.9 kB]\n",
            "Get:17 http://security.ubuntu.com/ubuntu bionic-security/universe amd64 Packages [1,396 kB]\n",
            "Get:18 http://ppa.launchpad.net/graphics-drivers/ppa/ubuntu bionic InRelease [21.3 kB]\n",
            "Get:19 http://security.ubuntu.com/ubuntu bionic-security/main amd64 Packages [1,963 kB]\n",
            "Get:20 http://archive.ubuntu.com/ubuntu bionic-updates/restricted amd64 Packages [353 kB]\n",
            "Get:21 http://security.ubuntu.com/ubuntu bionic-security/multiverse amd64 Packages [24.5 kB]\n",
            "Get:22 http://security.ubuntu.com/ubuntu bionic-security/restricted amd64 Packages [324 kB]\n",
            "Get:23 http://ppa.launchpad.net/c2d4u.team/c2d4u4.0+/ubuntu bionic/main Sources [1,739 kB]\n",
            "Get:24 http://archive.ubuntu.com/ubuntu bionic-updates/universe amd64 Packages [2,163 kB]\n",
            "Get:25 http://archive.ubuntu.com/ubuntu bionic-updates/multiverse amd64 Packages [31.4 kB]\n",
            "Get:26 http://archive.ubuntu.com/ubuntu bionic-updates/main amd64 Packages [2,394 kB]\n",
            "Get:27 http://ppa.launchpad.net/c2d4u.team/c2d4u4.0+/ubuntu bionic/main amd64 Packages [890 kB]\n",
            "Get:28 http://ppa.launchpad.net/deadsnakes/ppa/ubuntu bionic/main amd64 Packages [39.5 kB]\n",
            "Get:29 http://ppa.launchpad.net/graphics-drivers/ppa/ubuntu bionic/main amd64 Packages [49.4 kB]\n",
            "Fetched 12.3 MB in 5s (2,544 kB/s)\n",
            "Reading package lists... Done\n"
          ],
          "name": "stdout"
        }
      ]
    },
    {
      "cell_type": "code",
      "metadata": {
        "colab": {
          "base_uri": "https://localhost:8080/"
        },
        "id": "YT-UxXBLcbfj",
        "outputId": "7108f8f7-28cb-4ea0-81eb-e393c9c055e2"
      },
      "source": [
        "!wget https://jdbc.postgresql.org/download/postgresql-42.2.16.jar"
      ],
      "execution_count": 2,
      "outputs": [
        {
          "output_type": "stream",
          "text": [
            "--2021-03-05 22:14:18--  https://jdbc.postgresql.org/download/postgresql-42.2.16.jar\n",
            "Resolving jdbc.postgresql.org (jdbc.postgresql.org)... 72.32.157.228, 2001:4800:3e1:1::228\n",
            "Connecting to jdbc.postgresql.org (jdbc.postgresql.org)|72.32.157.228|:443... connected.\n",
            "HTTP request sent, awaiting response... 200 OK\n",
            "Length: 1002883 (979K) [application/java-archive]\n",
            "Saving to: ‘postgresql-42.2.16.jar’\n",
            "\n",
            "postgresql-42.2.16. 100%[===================>] 979.38K  6.02MB/s    in 0.2s    \n",
            "\n",
            "2021-03-05 22:14:19 (6.02 MB/s) - ‘postgresql-42.2.16.jar’ saved [1002883/1002883]\n",
            "\n"
          ],
          "name": "stdout"
        }
      ]
    },
    {
      "cell_type": "markdown",
      "metadata": {
        "id": "7-7wXAH1cgC2"
      },
      "source": [
        "Load RDS Data into Spark DataFrame"
      ]
    },
    {
      "cell_type": "code",
      "metadata": {
        "id": "Fiv3GnQChNJc"
      },
      "source": [
        "from pyspark.sql import SparkSession\n",
        "spark = SparkSession.builder.appName(\"BigData-Challenge\").config(\"spark.driver.extraClassPath\",\"/content/postgresql-42.2.16.jar\").getOrCreate()"
      ],
      "execution_count": 3,
      "outputs": []
    },
    {
      "cell_type": "markdown",
      "metadata": {
        "id": "POJ_QX1KFLnD"
      },
      "source": [
        "BEAUTY Vine Table"
      ]
    },
    {
      "cell_type": "code",
      "metadata": {
        "id": "-r2FTr5SdGw3"
      },
      "source": [
        "#Configure settings for RDS\n",
        "jdbc_url=\"jdbc:postgresql://instanceName.cxyspgwfkz9n.us-east-2.rds.amazonaws.com:5432/databsename\" # copied Endpoint & /database name goes here\n",
        "config = {\"user\":\"user\", \n",
        "          \"password\": \"password\", \n",
        "          \"driver\":\"org.postgresql.Driver\"}"
      ],
      "execution_count": 4,
      "outputs": []
    },
    {
      "cell_type": "code",
      "metadata": {
        "colab": {
          "base_uri": "https://localhost:8080/"
        },
        "id": "BPsxyF7seHkE",
        "outputId": "7229d197-e59f-48d0-b055-dc1667582a69"
      },
      "source": [
        "# Read vine table in RDS to vine_df SparkDataframe\n",
        "df = spark.read.jdbc(url=jdbc_url, table='vine_table', properties=config)\n",
        "df.show(5)"
      ],
      "execution_count": 5,
      "outputs": [
        {
          "output_type": "stream",
          "text": [
            "+--------------+-----------+-------------+-----------+----+\n",
            "|     review_id|star_rating|helpful_votes|total_votes|vine|\n",
            "+--------------+-----------+-------------+-----------+----+\n",
            "| RZ6BN3BAXDYKN|          3|            0|          0|   N|\n",
            "|R389XBYKYYXJ7J|          5|            1|          1|   N|\n",
            "|R1R2G6KENWOAWG|          5|            0|          0|   N|\n",
            "|R367BCWUHK847M|          2|            1|          2|   N|\n",
            "|R3VLCI8RYRTXW0|          5|            1|          1|   N|\n",
            "+--------------+-----------+-------------+-----------+----+\n",
            "only showing top 5 rows\n",
            "\n"
          ],
          "name": "stdout"
        }
      ]
    },
    {
      "cell_type": "code",
      "metadata": {
        "colab": {
          "base_uri": "https://localhost:8080/"
        },
        "id": "pLkB6OlKL-AO",
        "outputId": "65c3c875-1ed6-4486-84aa-2c5234a70678"
      },
      "source": [
        "beauty_df1 = df.select([\"star_rating\", \"helpful_votes\", \"total_votes\", \"vine\"])\r\n",
        "beauty_df1.show(5)"
      ],
      "execution_count": 6,
      "outputs": [
        {
          "output_type": "stream",
          "text": [
            "+-----------+-------------+-----------+----+\n",
            "|star_rating|helpful_votes|total_votes|vine|\n",
            "+-----------+-------------+-----------+----+\n",
            "|          3|            0|          0|   N|\n",
            "|          5|            1|          1|   N|\n",
            "|          5|            0|          0|   N|\n",
            "|          2|            1|          2|   N|\n",
            "|          5|            1|          1|   N|\n",
            "+-----------+-------------+-----------+----+\n",
            "only showing top 5 rows\n",
            "\n"
          ],
          "name": "stdout"
        }
      ]
    },
    {
      "cell_type": "markdown",
      "metadata": {
        "id": "rE3709buGSVj"
      },
      "source": [
        "Beauty Vine Data Summary and Descriptive Statistics: \r\n"
      ]
    },
    {
      "cell_type": "code",
      "metadata": {
        "colab": {
          "base_uri": "https://localhost:8080/"
        },
        "id": "h8934S1hGyoW",
        "outputId": "690a079d-30d8-4077-cf5a-da135738b838"
      },
      "source": [
        "beauty_df_stats = beauty_df1.describe(\"star_rating\",\"helpful_votes\", \"total_votes\")\r\n",
        "beauty_df_stats.show()"
      ],
      "execution_count": 7,
      "outputs": [
        {
          "output_type": "stream",
          "text": [
            "+-------+------------------+-----------------+------------------+\n",
            "|summary|       star_rating|    helpful_votes|       total_votes|\n",
            "+-------+------------------+-----------------+------------------+\n",
            "|  count|           5115453|          5115452|           5115452|\n",
            "|   mean| 4.187214150382019|1.708924646346012| 2.163590040528188|\n",
            "| stddev|1.2997552151973857|17.24907769900601|18.433556383382356|\n",
            "|    min|                 1|                0|                 0|\n",
            "|    max|                 5|            13362|             13636|\n",
            "+-------+------------------+-----------------+------------------+\n",
            "\n"
          ],
          "name": "stdout"
        }
      ]
    },
    {
      "cell_type": "markdown",
      "metadata": {
        "id": "alfu5lCT8kbO"
      },
      "source": [
        "\r\n",
        "PAID Reviews Analysis Helpfulness: "
      ]
    },
    {
      "cell_type": "code",
      "metadata": {
        "colab": {
          "base_uri": "https://localhost:8080/"
        },
        "id": "8k2nX6uuinBq",
        "outputId": "b3c9600e-5b6f-4c3e-91d6-89b07db16285"
      },
      "source": [
        "paid_reviewers = beauty_df1.filter(beauty_df1['vine'] == 'Y')\r\n",
        "paid_reviewers.count()"
      ],
      "execution_count": 8,
      "outputs": [
        {
          "output_type": "execute_result",
          "data": {
            "text/plain": [
              "33309"
            ]
          },
          "metadata": {
            "tags": []
          },
          "execution_count": 8
        }
      ]
    },
    {
      "cell_type": "code",
      "metadata": {
        "colab": {
          "base_uri": "https://localhost:8080/"
        },
        "id": "g-SVZ4eV4eFO",
        "outputId": "5188a029-3d1d-4960-f4a4-904ef384cf2a"
      },
      "source": [
        "paid_stats = paid_reviewers.describe(\"star_rating\",\"helpful_votes\", \"total_votes\")\r\n",
        "paid_stats.show()"
      ],
      "execution_count": 9,
      "outputs": [
        {
          "output_type": "stream",
          "text": [
            "+-------+------------------+------------------+------------------+\n",
            "|summary|       star_rating|     helpful_votes|       total_votes|\n",
            "+-------+------------------+------------------+------------------+\n",
            "|  count|             33309|             33309|             33309|\n",
            "|   mean| 4.021435648023057| 2.374253204839533|3.0267195052388245|\n",
            "| stddev|0.9821680026595698|23.471693511283572|25.447078564796048|\n",
            "|    min|                 1|                 0|                 0|\n",
            "|    max|                 5|              1778|              1827|\n",
            "+-------+------------------+------------------+------------------+\n",
            "\n"
          ],
          "name": "stdout"
        }
      ]
    },
    {
      "cell_type": "code",
      "metadata": {
        "colab": {
          "base_uri": "https://localhost:8080/"
        },
        "id": "MApjfr5V06q_",
        "outputId": "598277cc-a1ba-4078-db66-13595f89229a"
      },
      "source": [
        "# Finding the Percentage for helpful_reviews that are based on 'Y' vine Paid reviews \r\n",
        "import pyspark.sql.functions as f\r\n",
        "from pyspark.sql.window import Window\r\n",
        "from pyspark.sql.functions import round\r\n",
        "paid_reviewers = beauty_df1.filter(beauty_df1['vine'] == 'Y')\r\n",
        "df_percent = paid_reviewers.withColumn('paid_percent',f.col('helpful_votes')/f.col('total_votes'))\r\n",
        "df_percent_filtered = df_percent.filter(df_percent['paid_percent'] > .05)\r\n",
        "df_percent_filtered.sort(df_percent_filtered[\"helpful_votes\"], ascending=False).show()"
      ],
      "execution_count": 10,
      "outputs": [
        {
          "output_type": "stream",
          "text": [
            "+-----------+-------------+-----------+----+------------------+\n",
            "|star_rating|helpful_votes|total_votes|vine|      paid_percent|\n",
            "+-----------+-------------+-----------+----+------------------+\n",
            "|          4|         1778|       1827|   Y|0.9731800766283525|\n",
            "|          3|         1338|       1362|   Y|0.9823788546255506|\n",
            "|          5|          994|       1196|   Y|0.8311036789297659|\n",
            "|          5|          986|       1021|   Y|0.9657198824681684|\n",
            "|          5|          950|        959|   Y|0.9906152241918665|\n",
            "|          4|          863|        953|   Y|0.9055613850996852|\n",
            "|          5|          857|        889|   Y|0.9640044994375703|\n",
            "|          2|          852|        917|   Y|0.9291166848418757|\n",
            "|          4|          790|        986|   Y|0.8012170385395537|\n",
            "|          4|          735|        762|   Y|0.9645669291338582|\n",
            "|          4|          679|        723|   Y|0.9391424619640387|\n",
            "|          4|          622|        656|   Y| 0.948170731707317|\n",
            "|          3|          576|        614|   Y|0.9381107491856677|\n",
            "|          3|          517|        719|   Y|0.7190542420027817|\n",
            "|          2|          495|        519|   Y| 0.953757225433526|\n",
            "|          4|          493|        554|   Y|0.8898916967509025|\n",
            "|          5|          470|        514|   Y| 0.914396887159533|\n",
            "|          5|          462|        487|   Y|0.9486652977412731|\n",
            "|          3|          437|        460|   Y|              0.95|\n",
            "|          4|          394|        435|   Y|0.9057471264367816|\n",
            "+-----------+-------------+-----------+----+------------------+\n",
            "only showing top 20 rows\n",
            "\n"
          ],
          "name": "stdout"
        }
      ]
    },
    {
      "cell_type": "markdown",
      "metadata": {
        "id": "eXyJmUfU8wYr"
      },
      "source": [
        "NOT Paid Reviews Analysis Helpfulness: "
      ]
    },
    {
      "cell_type": "code",
      "metadata": {
        "colab": {
          "base_uri": "https://localhost:8080/"
        },
        "id": "r7ZCmfBetjhg",
        "outputId": "af201980-368c-4010-c875-8c0587eaca9d"
      },
      "source": [
        "unpaid_reviewers = beauty_df1.filter(beauty_df1['vine'] == 'N')\r\n",
        "unpaid_reviewers.count()"
      ],
      "execution_count": 11,
      "outputs": [
        {
          "output_type": "execute_result",
          "data": {
            "text/plain": [
              "5082143"
            ]
          },
          "metadata": {
            "tags": []
          },
          "execution_count": 11
        }
      ]
    },
    {
      "cell_type": "code",
      "metadata": {
        "colab": {
          "base_uri": "https://localhost:8080/"
        },
        "id": "b9h2Huej5L7i",
        "outputId": "17e2d76b-ed15-4b2d-bcec-e748e40ba284"
      },
      "source": [
        "unpaid_stats = unpaid_reviewers.describe(\"star_rating\",\"helpful_votes\", \"total_votes\")\r\n",
        "unpaid_stats.show()"
      ],
      "execution_count": 12,
      "outputs": [
        {
          "output_type": "stream",
          "text": [
            "+-------+------------------+------------------+------------------+\n",
            "|summary|       star_rating|     helpful_votes|       total_votes|\n",
            "+-------+------------------+------------------+------------------+\n",
            "|  count|           5082143|           5082143|           5082143|\n",
            "|   mean|4.1883006833928125|1.7045639998717077|2.1579329822084894|\n",
            "| stddev| 1.301511560930239|17.200788395421753|18.378632432224205|\n",
            "|    min|                 1|                 0|                 0|\n",
            "|    max|                 5|             13362|             13636|\n",
            "+-------+------------------+------------------+------------------+\n",
            "\n"
          ],
          "name": "stdout"
        }
      ]
    },
    {
      "cell_type": "code",
      "metadata": {
        "colab": {
          "base_uri": "https://localhost:8080/"
        },
        "id": "ZYrpfbY_tV8F",
        "outputId": "d2b0b459-fc58-4fec-d9f9-4001a9366802"
      },
      "source": [
        "# Finding the Percentage for helpful_reviews that are based on 'N' vine unpaid reviews \r\n",
        "import pyspark.sql.functions as f\r\n",
        "from pyspark.sql.window import Window\r\n",
        "from pyspark.sql.functions import round\r\n",
        "unpaid_reviewers = beauty_df1.filter(beauty_df1['vine'] == 'N')\r\n",
        "df_percent = unpaid_reviewers.withColumn('unpaid_percent',f.col('helpful_votes')/f.col('total_votes'))\r\n",
        "df_percent_filtered = df_percent.filter(df_percent['unpaid_percent'] > .05)\r\n",
        "df_percent_filtered.sort(df_percent_filtered[\"helpful_votes\"], ascending=False).show()"
      ],
      "execution_count": 13,
      "outputs": [
        {
          "output_type": "stream",
          "text": [
            "+-----------+-------------+-----------+----+------------------+\n",
            "|star_rating|helpful_votes|total_votes|vine|    unpaid_percent|\n",
            "+-----------+-------------+-----------+----+------------------+\n",
            "|          1|        13362|      13636|   N|0.9799061308301554|\n",
            "|          4|        10265|      10374|   N|0.9894929631771737|\n",
            "|          4|         6245|       6382|   N| 0.978533375117518|\n",
            "|          5|         5789|       5895|   N|0.9820186598812553|\n",
            "|          5|         5693|       5844|   N|0.9741615331964408|\n",
            "|          5|         4786|       4888|   N|0.9791325695581015|\n",
            "|          5|         3994|       4365|   N|0.9150057273768614|\n",
            "|          1|         3916|       4068|   N|0.9626352015732547|\n",
            "|          1|         3864|       4266|   N|0.9057665260196905|\n",
            "|          1|         3809|       4007|   N|0.9505864736710756|\n",
            "|          5|         3681|       3789|   N|0.9714964370546318|\n",
            "|          5|         3622|       3722|   N|0.9731327243417518|\n",
            "|          1|         3487|       3600|   N|0.9686111111111111|\n",
            "|          1|         3355|       3438|   N|0.9758580570098895|\n",
            "|          5|         3354|       3504|   N|0.9571917808219178|\n",
            "|          5|         3301|       3644|   N|0.9058726673984633|\n",
            "|          5|         3096|       3129|   N|0.9894534995206136|\n",
            "|          5|         3091|       3174|   N|0.9738500315059861|\n",
            "|          1|         3035|       3166|   N|0.9586228679722046|\n",
            "|          1|         2999|       3198|   N|0.9377736085053158|\n",
            "+-----------+-------------+-----------+----+------------------+\n",
            "only showing top 20 rows\n",
            "\n"
          ],
          "name": "stdout"
        }
      ]
    },
    {
      "cell_type": "code",
      "metadata": {
        "colab": {
          "base_uri": "https://localhost:8080/"
        },
        "id": "3PNC7ZyOkiG-",
        "outputId": "6d7097ce-f788-4add-e02e-5d63255e2217"
      },
      "source": [
        "paid_reviewers = beauty_df1.filter(beauty_df1['vine'] == 'Y')\r\n",
        "Paid_FiveStar_Votes = paid_reviewers.filter(beauty_df1['star_rating'] == 5)\r\n",
        "Paid_FiveStar_Votes.count()"
      ],
      "execution_count": 14,
      "outputs": [
        {
          "output_type": "execute_result",
          "data": {
            "text/plain": [
              "12429"
            ]
          },
          "metadata": {
            "tags": []
          },
          "execution_count": 14
        }
      ]
    },
    {
      "cell_type": "code",
      "metadata": {
        "colab": {
          "base_uri": "https://localhost:8080/"
        },
        "id": "JKV_vAjGCYwX",
        "outputId": "d761fa29-8b97-4472-a9f5-2082d01ab892"
      },
      "source": [
        "# Finding the Percentage of 5-Star reviews are based on 'Y' vine paid reviews \r\n",
        "# What % of Y vine = 5star \r\n",
        "import pyspark.sql.functions as f\r\n",
        "from pyspark.sql.window import Window\r\n",
        "from pyspark.sql.functions import round\r\n",
        "Paid_FiveStar_Votes = paid_reviewers.filter(beauty_df1['star_rating'] == 5)\r\n",
        "paid_percent = Paid_FiveStar_Votes.withColumn('paid_percent',f.col('helpful_votes')/f.col('total_votes'))\r\n",
        "paid_percent_filtered = paid_percent.filter(paid_percent['paid_percent'] > .05)\r\n",
        "paid_percent_filtered.sort(paid_percent_filtered[\"helpful_votes\"], ascending=False).show()"
      ],
      "execution_count": 16,
      "outputs": [
        {
          "output_type": "stream",
          "text": [
            "+-----------+-------------+-----------+----+------------------+\n",
            "|star_rating|helpful_votes|total_votes|vine|      paid_percent|\n",
            "+-----------+-------------+-----------+----+------------------+\n",
            "|          5|          994|       1196|   Y|0.8311036789297659|\n",
            "|          5|          986|       1021|   Y|0.9657198824681684|\n",
            "|          5|          950|        959|   Y|0.9906152241918665|\n",
            "|          5|          857|        889|   Y|0.9640044994375703|\n",
            "|          5|          470|        514|   Y| 0.914396887159533|\n",
            "|          5|          462|        487|   Y|0.9486652977412731|\n",
            "|          5|          390|        423|   Y|0.9219858156028369|\n",
            "|          5|          313|        322|   Y|0.9720496894409938|\n",
            "|          5|          299|        308|   Y|0.9707792207792207|\n",
            "|          5|          292|        318|   Y|0.9182389937106918|\n",
            "|          5|          264|        279|   Y| 0.946236559139785|\n",
            "|          5|          244|        274|   Y|0.8905109489051095|\n",
            "|          5|          232|        251|   Y|0.9243027888446215|\n",
            "|          5|          227|        279|   Y|0.8136200716845878|\n",
            "|          5|          204|        223|   Y|0.9147982062780269|\n",
            "|          5|          203|        211|   Y|0.9620853080568721|\n",
            "|          5|          199|        208|   Y|0.9567307692307693|\n",
            "|          5|          198|        207|   Y|0.9565217391304348|\n",
            "|          5|          186|        200|   Y|              0.93|\n",
            "|          5|          185|        209|   Y|0.8851674641148325|\n",
            "+-----------+-------------+-----------+----+------------------+\n",
            "only showing top 20 rows\n",
            "\n"
          ],
          "name": "stdout"
        }
      ]
    },
    {
      "cell_type": "code",
      "metadata": {
        "colab": {
          "base_uri": "https://localhost:8080/"
        },
        "id": "gzVDBcYzpCIQ",
        "outputId": "bfad505b-176d-4f47-c4a4-9d3b80b2241e"
      },
      "source": [
        "unpaid_reviewers = beauty_df1.filter(beauty_df1['vine'] == 'N')\r\n",
        "Unpaid_FiveStar_Votes = unpaid_reviewers.filter(beauty_df1['star_rating'] == 5)\r\n",
        "Unpaid_FiveStar_Votes.count()"
      ],
      "execution_count": 17,
      "outputs": [
        {
          "output_type": "execute_result",
          "data": {
            "text/plain": [
              "3242324"
            ]
          },
          "metadata": {
            "tags": []
          },
          "execution_count": 17
        }
      ]
    },
    {
      "cell_type": "code",
      "metadata": {
        "colab": {
          "base_uri": "https://localhost:8080/"
        },
        "id": "rgRrYXXy_4vp",
        "outputId": "7b640f27-7a2f-4d94-86e6-da009a5b2462"
      },
      "source": [
        "# Finding the Percentage of 5-Star reviews are based on 'N' vine paid reviews \r\n",
        "# What % of N vine = 5star \r\n",
        "import pyspark.sql.functions as f\r\n",
        "from pyspark.sql.window import Window\r\n",
        "from pyspark.sql.functions import round\r\n",
        "Unpaid_FiveStar_Votes = unpaid_reviewers.filter(beauty_df1['star_rating'] == 5)\r\n",
        "Unpaid_percent = Unpaid_FiveStar_Votes.withColumn('unpaid_percent',f.col('helpful_votes')/f.col('total_votes'))\r\n",
        "Unpaid_percent_filtered = Unpaid_percent.filter(Unpaid_percent['unpaid_percent'] > .05)\r\n",
        "Unpaid_percent_filtered.sort(Unpaid_percent_filtered[\"helpful_votes\"], ascending=False).show()"
      ],
      "execution_count": 23,
      "outputs": [
        {
          "output_type": "stream",
          "text": [
            "+-----------+-------------+-----------+----+------------------+\n",
            "|star_rating|helpful_votes|total_votes|vine|    unpaid_percent|\n",
            "+-----------+-------------+-----------+----+------------------+\n",
            "|          5|         5789|       5895|   N|0.9820186598812553|\n",
            "|          5|         5693|       5844|   N|0.9741615331964408|\n",
            "|          5|         4786|       4888|   N|0.9791325695581015|\n",
            "|          5|         3994|       4365|   N|0.9150057273768614|\n",
            "|          5|         3681|       3789|   N|0.9714964370546318|\n",
            "|          5|         3622|       3722|   N|0.9731327243417518|\n",
            "|          5|         3354|       3504|   N|0.9571917808219178|\n",
            "|          5|         3301|       3644|   N|0.9058726673984633|\n",
            "|          5|         3096|       3129|   N|0.9894534995206136|\n",
            "|          5|         3091|       3174|   N|0.9738500315059861|\n",
            "|          5|         2946|       3089|   N|0.9537067011977987|\n",
            "|          5|         2919|       3038|   N|0.9608294930875576|\n",
            "|          5|         2826|       2890|   N|0.9778546712802768|\n",
            "|          5|         2690|       2992|   N|0.8990641711229946|\n",
            "|          5|         2663|       2775|   N|0.9596396396396396|\n",
            "|          5|         2598|       2827|   N|0.9189954014856738|\n",
            "|          5|         2581|       2757|   N|0.9361624954660863|\n",
            "|          5|         2549|       2928|   N|0.8705601092896175|\n",
            "|          5|         2408|       2602|   N|0.9254419677171407|\n",
            "|          5|         2299|       2349|   N|0.9787143465304385|\n",
            "+-----------+-------------+-----------+----+------------------+\n",
            "only showing top 20 rows\n",
            "\n"
          ],
          "name": "stdout"
        }
      ]
    },
    {
      "cell_type": "code",
      "metadata": {
        "id": "Pk0LRDWpL9xp"
      },
      "source": [
        "# beauty_df3 = beauty_df2.filter(beauty_df2[\"total_votes\"] >= 50) \r\n",
        "beauty_df4 = beauty_df1.filter(beauty_df1[\"helpful_votes\"] / beauty_df1[\"total_votes\"] >= 0.5)"
      ],
      "execution_count": 19,
      "outputs": []
    },
    {
      "cell_type": "code",
      "metadata": {
        "colab": {
          "base_uri": "https://localhost:8080/"
        },
        "id": "qAazbcOCL9a-",
        "outputId": "70a5a30c-a1d5-472d-f5c9-84626bbf743b"
      },
      "source": [
        "paid_reviewers = beauty_df4.filter(beauty_df4['vine']== 'Y')\r\n",
        "paid_five_star_count = paid_reviewers[paid_reviewers['star_rating']== 5].count()\r\n",
        "paid_count = paid_reviewers.count()\r\n",
        "five_star_percentage = float(paid_five_star_count) / float(paid_count)\r\n",
        "\r\n",
        "print(paid_count)\r\n",
        "print(paid_five_star_count)\r\n",
        "print(five_star_percentage)"
      ],
      "execution_count": 20,
      "outputs": [
        {
          "output_type": "stream",
          "text": [
            "11597\n",
            "4168\n",
            "0.35940329395533327\n"
          ],
          "name": "stdout"
        }
      ]
    },
    {
      "cell_type": "code",
      "metadata": {
        "colab": {
          "base_uri": "https://localhost:8080/"
        },
        "id": "UWR6dOtaRiQH",
        "outputId": "ed09b2f2-893b-4dd8-b31d-9ada2f59b886"
      },
      "source": [
        "unpaid_reviewers = beauty_df4.filter(beauty_df4['vine']== 'N')\r\n",
        "unpaid_five_star_count = unpaid_reviewers[unpaid_reviewers['star_rating']== 5].count()\r\n",
        "unpaid_count = unpaid_reviewers.count()\r\n",
        "five_star_percentage = float(unpaid_five_star_count) / float(unpaid_count)\r\n",
        "\r\n",
        "print(unpaid_count)\r\n",
        "print(unpaid_five_star_count)\r\n",
        "print(five_star_percentage)"
      ],
      "execution_count": 21,
      "outputs": [
        {
          "output_type": "stream",
          "text": [
            "1727233\n",
            "1048230\n",
            "0.6068839583310416\n"
          ],
          "name": "stdout"
        }
      ]
    },
    {
      "cell_type": "markdown",
      "metadata": {
        "id": "h9ahAzbUFhot"
      },
      "source": [
        "BOOKS Vine Table"
      ]
    },
    {
      "cell_type": "code",
      "metadata": {
        "id": "EVgMXShaFU59"
      },
      "source": [
        "#Configure settings for RDS\r\n",
        "jdbc_url=\"jdbc:postgresql://postgres.cxyspgwfkz9n.us-east-2.rds.amazonaws.com:5432/postgres\" # copied Endpoint & /database name goes here\r\n",
        "config = {\"user\":\"root\", \r\n",
        "          \"password\": \"class2021\", \r\n",
        "          \"driver\":\"org.postgresql.Driver\"}"
      ],
      "execution_count": null,
      "outputs": []
    },
    {
      "cell_type": "code",
      "metadata": {
        "colab": {
          "base_uri": "https://localhost:8080/"
        },
        "id": "MV1Qac67FY1z",
        "outputId": "33b9a079-9c77-43cb-c5d1-8299e2c881d8"
      },
      "source": [
        "# Read vine table in RDS to vine_df SparkDataframe\r\n",
        "books_df = spark.read.jdbc(url=jdbc_url, table='vine_table', properties=config)\r\n",
        "books_df.show(5)"
      ],
      "execution_count": null,
      "outputs": [
        {
          "output_type": "stream",
          "text": [
            "+--------------+-----------+-------------+-----------+----+\n",
            "|     review_id|star_rating|helpful_votes|total_votes|vine|\n",
            "+--------------+-----------+-------------+-----------+----+\n",
            "| RQ58W7SMO911M|          4|            2|          3|   N|\n",
            "|  RF6IUKMGL8SF|          3|            5|          5|   N|\n",
            "|R1DOSHH6AI622S|          4|            1|         22|   N|\n",
            "| RATOTLA3OF70O|          5|            2|          2|   N|\n",
            "|R1TNWRKIVHVYOV|          4|            0|          2|   N|\n",
            "+--------------+-----------+-------------+-----------+----+\n",
            "only showing top 5 rows\n",
            "\n"
          ],
          "name": "stdout"
        }
      ]
    },
    {
      "cell_type": "markdown",
      "metadata": {
        "id": "0sar6IhPlw0i"
      },
      "source": [
        "Books Vine Data Summary and Descriptive Statistics: "
      ]
    },
    {
      "cell_type": "code",
      "metadata": {
        "colab": {
          "base_uri": "https://localhost:8080/"
        },
        "id": "P3zPwg054k4u",
        "outputId": "c1858958-3c2c-4e99-81b8-cb290b4c83d2"
      },
      "source": [
        "books_stats = books_df.describe(\"star_rating\",\"helpful_votes\", \"total_votes\")\r\n",
        "books_stats.show()"
      ],
      "execution_count": null,
      "outputs": [
        {
          "output_type": "stream",
          "text": [
            "+-------+------------------+----------------+------------------+\n",
            "|summary|       star_rating|   helpful_votes|       total_votes|\n",
            "+-------+------------------+----------------+------------------+\n",
            "|  count|           3105515|         3105515|           3105515|\n",
            "|   mean| 4.182722672406992|9.33469038146652|12.400078891906817|\n",
            "| stddev|1.2458976835774067|26.2239470287692| 30.24433583508727|\n",
            "|    min|                 1|               0|                 0|\n",
            "|    max|                 5|           15835|             16352|\n",
            "+-------+------------------+----------------+------------------+\n",
            "\n"
          ],
          "name": "stdout"
        }
      ]
    },
    {
      "cell_type": "code",
      "metadata": {
        "colab": {
          "base_uri": "https://localhost:8080/"
        },
        "id": "a5eoBYaHQC_t",
        "outputId": "56a65707-a8c0-4724-ac2b-85e2f628fdca"
      },
      "source": [
        "from pyspark.sql.functions import round\r\n",
        "FiveStar_count = books_df[books_df['star_rating']== 5].count()\r\n",
        "FiveStar_vote = books_df.groupBy(\"helpful_votes\").count() \r\n",
        "FiveStar_vote  = FiveStar_vote.orderBy(FiveStar_vote[\"count\"].desc())\r\n",
        "FiveStar_vote .withColumn('percentage', round(FiveStar_vote[\"count\"]/FiveStar_count,3)).show()"
      ],
      "execution_count": null,
      "outputs": [
        {
          "output_type": "stream",
          "text": [
            "+-------------+------+----------+\n",
            "|helpful_votes| count|percentage|\n",
            "+-------------+------+----------+\n",
            "|            0|459923|     0.247|\n",
            "|            1|408855|     0.219|\n",
            "|            2|333718|     0.179|\n",
            "|            3|269067|     0.144|\n",
            "|            4|215443|     0.116|\n",
            "|            5|176301|     0.095|\n",
            "|            6|144403|     0.077|\n",
            "|            7|120318|     0.065|\n",
            "|            8|101095|     0.054|\n",
            "|            9| 85924|     0.046|\n",
            "|           10| 73994|      0.04|\n",
            "|           11| 64172|     0.034|\n",
            "|           12| 56530|      0.03|\n",
            "|           13| 50035|     0.027|\n",
            "|           14| 43759|     0.023|\n",
            "|           15| 38900|     0.021|\n",
            "|           16| 34403|     0.018|\n",
            "|           17| 30954|     0.017|\n",
            "|           18| 27856|     0.015|\n",
            "|           19| 24957|     0.013|\n",
            "+-------------+------+----------+\n",
            "only showing top 20 rows\n",
            "\n"
          ],
          "name": "stdout"
        }
      ]
    },
    {
      "cell_type": "code",
      "metadata": {
        "colab": {
          "base_uri": "https://localhost:8080/"
        },
        "id": "dDizXLdyj6YY",
        "outputId": "ccd292b9-507a-4930-d6ca-cf63ca4cfcc1"
      },
      "source": [
        "beauty_vine_df = beauty_vine_df.filter(beauty_vine_df['total_votes'] >= 20)\r\n",
        "beauty_vine_df.show(5)"
      ],
      "execution_count": null,
      "outputs": [
        {
          "output_type": "stream",
          "text": [
            "+--------------+-----------+-------------+-----------+----+\n",
            "|     review_id|star_rating|helpful_votes|total_votes|vine|\n",
            "+--------------+-----------+-------------+-----------+----+\n",
            "|R2QRUE9REK8OUC|          5|           18|         23|   N|\n",
            "|R2POXRW6PXHXZG|          5|           25|         30|   N|\n",
            "| RZN43XRZ89IIJ|          3|           10|         27|   N|\n",
            "|R29Q748WSHZ3SN|          5|           23|         24|   N|\n",
            "| R46UL5G5HEPRZ|          5|           18|         20|   N|\n",
            "+--------------+-----------+-------------+-----------+----+\n",
            "only showing top 5 rows\n",
            "\n"
          ],
          "name": "stdout"
        }
      ]
    },
    {
      "cell_type": "code",
      "metadata": {
        "colab": {
          "base_uri": "https://localhost:8080/"
        },
        "id": "qBsnlEbRVSVK",
        "outputId": "d5b51adf-dec8-4aa7-f3ae-aaf9bd56f461"
      },
      "source": [
        "paid_reviewers = books_df.filter(books_df['vine'] == 'Y')\r\n",
        "paid_stats = paid_reviewers.describe(\"star_rating\",\"helpful_votes\", \"total_votes\")\r\n",
        "paid_stats.show()"
      ],
      "execution_count": null,
      "outputs": [
        {
          "output_type": "stream",
          "text": [
            "+-------+------------------+-------------+------------------+\n",
            "|summary|       star_rating|helpful_votes|       total_votes|\n",
            "+-------+------------------+-------------+------------------+\n",
            "|  count|                 2|            2|                 2|\n",
            "|   mean|               4.5|          3.0|               4.5|\n",
            "| stddev|0.7071067811865476|          0.0|2.1213203435596424|\n",
            "|    min|                 4|            3|                 3|\n",
            "|    max|                 5|            3|                 6|\n",
            "+-------+------------------+-------------+------------------+\n",
            "\n"
          ],
          "name": "stdout"
        }
      ]
    },
    {
      "cell_type": "code",
      "metadata": {
        "colab": {
          "base_uri": "https://localhost:8080/"
        },
        "id": "gCzUkwk5-F_j",
        "outputId": "e1bef371-dd72-4f37-8521-d8c23a46df16"
      },
      "source": [
        "unpaid_reviewers = books_df.filter(books_df['vine'] == 'N')\r\n",
        "unpaid_stats = unpaid_reviewers.describe(\"star_rating\",\"helpful_votes\", \"total_votes\")\r\n",
        "unpaid_stats.show()"
      ],
      "execution_count": null,
      "outputs": [
        {
          "output_type": "stream",
          "text": [
            "+-------+------------------+-----------------+------------------+\n",
            "|summary|       star_rating|    helpful_votes|       total_votes|\n",
            "+-------+------------------+-----------------+------------------+\n",
            "|  count|           3105513|          3105513|           3105513|\n",
            "|   mean|4.1827224680753226|9.334694461108358|12.400083979683872|\n",
            "| stddev| 1.245897994135481| 26.2239549803491|30.244344885565138|\n",
            "|    min|                 1|                0|                 0|\n",
            "|    max|                 5|            15835|             16352|\n",
            "+-------+------------------+-----------------+------------------+\n",
            "\n"
          ],
          "name": "stdout"
        }
      ]
    }
  ]
}