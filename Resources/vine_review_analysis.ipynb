{
  "nbformat": 4,
  "nbformat_minor": 0,
  "metadata": {
    "colab": {
      "name": "vine_review_analysis.ipynb",
      "provenance": [],
      "collapsed_sections": []
    },
    "kernelspec": {
      "name": "python3",
      "display_name": "Python 3"
    }
  },
  "cells": [
    {
      "cell_type": "code",
      "metadata": {
        "id": "Kujz0DWAcAeM",
        "colab": {
          "base_uri": "https://localhost:8080/"
        },
        "outputId": "efc1c2ef-e2af-4edc-9abf-9ac170a36862"
      },
      "source": [
        "import os\n",
        "# Find the latest version of spark 2.0  from http://www-us.apache.org/dist/spark/ and enter as the spark version\n",
        "# For example:\n",
        "spark_version = 'spark-3.0.2'\n",
        "# spark_version = 'spark-3.0.2'\n",
        "os.environ['SPARK_VERSION']=spark_version\n",
        "\n",
        "# Install Spark and Java\n",
        "!apt-get update\n",
        "!apt-get install openjdk-11-jdk-headless -qq > /dev/null\n",
        "!wget -q http://www-us.apache.org/dist/spark/$SPARK_VERSION/$SPARK_VERSION-bin-hadoop2.7.tgz\n",
        "!tar xf $SPARK_VERSION-bin-hadoop2.7.tgz\n",
        "!pip install -q findspark\n",
        "\n",
        "# Set Environment Variables\n",
        "import os\n",
        "os.environ[\"JAVA_HOME\"] = \"/usr/lib/jvm/java-11-openjdk-amd64\"\n",
        "os.environ[\"SPARK_HOME\"] = f\"/content/{spark_version}-bin-hadoop2.7\"\n",
        "\n",
        "# Start a SparkSession\n",
        "import findspark\n",
        "findspark.init()"
      ],
      "execution_count": 1,
      "outputs": [
        {
          "output_type": "stream",
          "text": [
            "\r0% [Working]\r            \rGet:1 http://security.ubuntu.com/ubuntu bionic-security InRelease [88.7 kB]\n",
            "\r0% [Connecting to archive.ubuntu.com (91.189.88.152)] [1 InRelease 14.2 kB/88.7\r0% [Waiting for headers] [Waiting for headers] [Waiting for headers] [Waiting f\r                                                                               \rGet:2 https://cloud.r-project.org/bin/linux/ubuntu bionic-cran40/ InRelease [3,626 B]\n",
            "\r                                                                               \rIgn:3 https://developer.download.nvidia.com/compute/cuda/repos/ubuntu1804/x86_64  InRelease\n",
            "\r                                                                               \r0% [Waiting for headers] [Waiting for headers] [Waiting for headers]\r0% [1 InRelease gpgv 88.7 kB] [Waiting for headers] [Waiting for headers] [Wait\r                                                                               \rHit:4 http://archive.ubuntu.com/ubuntu bionic InRelease\n",
            "\r0% [1 InRelease gpgv 88.7 kB] [Waiting for headers] [Waiting for headers] [Wait\r                                                                               \rGet:5 http://ppa.launchpad.net/c2d4u.team/c2d4u4.0+/ubuntu bionic InRelease [15.9 kB]\n",
            "\r0% [1 InRelease gpgv 88.7 kB] [Waiting for headers] [5 InRelease 14.2 kB/15.9 k\r                                                                               \rIgn:6 https://developer.download.nvidia.com/compute/machine-learning/repos/ubuntu1804/x86_64  InRelease\n",
            "Get:7 https://developer.download.nvidia.com/compute/cuda/repos/ubuntu1804/x86_64  Release [697 B]\n",
            "Get:8 https://developer.download.nvidia.com/compute/machine-learning/repos/ubuntu1804/x86_64  Release [564 B]\n",
            "Get:9 https://developer.download.nvidia.com/compute/cuda/repos/ubuntu1804/x86_64  Release.gpg [836 B]\n",
            "Get:10 https://developer.download.nvidia.com/compute/machine-learning/repos/ubuntu1804/x86_64  Release.gpg [833 B]\n",
            "Get:11 http://archive.ubuntu.com/ubuntu bionic-updates InRelease [88.7 kB]\n",
            "Get:12 http://security.ubuntu.com/ubuntu bionic-security/multiverse amd64 Packages [24.5 kB]\n",
            "Hit:13 http://ppa.launchpad.net/cran/libgit2/ubuntu bionic InRelease\n",
            "Get:14 http://security.ubuntu.com/ubuntu bionic-security/restricted amd64 Packages [324 kB]\n",
            "Get:15 http://security.ubuntu.com/ubuntu bionic-security/main amd64 Packages [1,963 kB]\n",
            "Get:16 http://archive.ubuntu.com/ubuntu bionic-backports InRelease [74.6 kB]\n",
            "Get:17 http://ppa.launchpad.net/deadsnakes/ppa/ubuntu bionic InRelease [15.9 kB]\n",
            "Get:18 http://security.ubuntu.com/ubuntu bionic-security/universe amd64 Packages [1,396 kB]\n",
            "Get:19 http://ppa.launchpad.net/graphics-drivers/ppa/ubuntu bionic InRelease [21.3 kB]\n",
            "Ign:20 https://developer.download.nvidia.com/compute/cuda/repos/ubuntu1804/x86_64  Packages\n",
            "Get:20 https://developer.download.nvidia.com/compute/cuda/repos/ubuntu1804/x86_64  Packages [577 kB]\n",
            "Get:21 https://developer.download.nvidia.com/compute/machine-learning/repos/ubuntu1804/x86_64  Packages [73.8 kB]\n",
            "Get:22 http://ppa.launchpad.net/c2d4u.team/c2d4u4.0+/ubuntu bionic/main Sources [1,739 kB]\n",
            "Get:23 http://archive.ubuntu.com/ubuntu bionic-updates/main amd64 Packages [2,394 kB]\n",
            "Get:24 http://ppa.launchpad.net/c2d4u.team/c2d4u4.0+/ubuntu bionic/main amd64 Packages [890 kB]\n",
            "Get:25 http://archive.ubuntu.com/ubuntu bionic-updates/universe amd64 Packages [2,163 kB]\n",
            "Get:26 http://archive.ubuntu.com/ubuntu bionic-updates/restricted amd64 Packages [353 kB]\n",
            "Get:27 http://archive.ubuntu.com/ubuntu bionic-updates/multiverse amd64 Packages [31.4 kB]\n",
            "Get:28 http://ppa.launchpad.net/deadsnakes/ppa/ubuntu bionic/main amd64 Packages [39.5 kB]\n",
            "Get:29 http://ppa.launchpad.net/graphics-drivers/ppa/ubuntu bionic/main amd64 Packages [49.4 kB]\n",
            "Fetched 12.3 MB in 4s (2,992 kB/s)\n",
            "Reading package lists... Done\n"
          ],
          "name": "stdout"
        }
      ]
    },
    {
      "cell_type": "code",
      "metadata": {
        "id": "YT-UxXBLcbfj",
        "colab": {
          "base_uri": "https://localhost:8080/"
        },
        "outputId": "033667e7-a019-4fcc-8fb2-349a6a5bf604"
      },
      "source": [
        "!wget https://jdbc.postgresql.org/download/postgresql-42.2.16.jar"
      ],
      "execution_count": 2,
      "outputs": [
        {
          "output_type": "stream",
          "text": [
            "--2021-03-05 17:31:16--  https://jdbc.postgresql.org/download/postgresql-42.2.16.jar\n",
            "Resolving jdbc.postgresql.org (jdbc.postgresql.org)... 72.32.157.228, 2001:4800:3e1:1::228\n",
            "Connecting to jdbc.postgresql.org (jdbc.postgresql.org)|72.32.157.228|:443... connected.\n",
            "HTTP request sent, awaiting response... 200 OK\n",
            "Length: 1002883 (979K) [application/java-archive]\n",
            "Saving to: ‘postgresql-42.2.16.jar’\n",
            "\n",
            "postgresql-42.2.16. 100%[===================>] 979.38K  --.-KB/s    in 0.1s    \n",
            "\n",
            "2021-03-05 17:31:17 (6.54 MB/s) - ‘postgresql-42.2.16.jar’ saved [1002883/1002883]\n",
            "\n"
          ],
          "name": "stdout"
        }
      ]
    },
    {
      "cell_type": "markdown",
      "metadata": {
        "id": "7-7wXAH1cgC2"
      },
      "source": [
        "Load RDS Data into Spark DataFrame"
      ]
    },
    {
      "cell_type": "code",
      "metadata": {
        "id": "Fiv3GnQChNJc"
      },
      "source": [
        "from pyspark.sql import SparkSession\n",
        "spark = SparkSession.builder.appName(\"BigData-Challenge\").config(\"spark.driver.extraClassPath\",\"/content/postgresql-42.2.16.jar\").getOrCreate()"
      ],
      "execution_count": 3,
      "outputs": []
    },
    {
      "cell_type": "markdown",
      "metadata": {
        "id": "POJ_QX1KFLnD"
      },
      "source": [
        "BEAUTY Vine Table"
      ]
    },
    {
      "cell_type": "code",
      "metadata": {
        "id": "-r2FTr5SdGw3"
      },
      "source": [
        "#Configure settings for RDS\n",
        "jdbc_url=\"jdbc:postgresql://postgres.cxyspgwfkz9n.us-east-2.rds.amazonaws.com:5432/postgres2\" # copied Endpoint & /database name goes here\n",
        "config = {\"user\":\"root\", \n",
        "          \"password\": \"class2021\", \n",
        "          \"driver\":\"org.postgresql.Driver\"}"
      ],
      "execution_count": 4,
      "outputs": []
    },
    {
      "cell_type": "code",
      "metadata": {
        "id": "BPsxyF7seHkE",
        "colab": {
          "base_uri": "https://localhost:8080/"
        },
        "outputId": "2f458b0c-b35f-4ad6-8609-605018dfba45"
      },
      "source": [
        "# Read vine table in RDS to vine_df SparkDataframe\n",
        "beauty_df1 = spark.read.jdbc(url=jdbc_url, table='vine_table', properties=config)\n",
        "beauty_df1.show(5)"
      ],
      "execution_count": 80,
      "outputs": [
        {
          "output_type": "stream",
          "text": [
            "+--------------+-----------+-------------+-----------+----+\n",
            "|     review_id|star_rating|helpful_votes|total_votes|vine|\n",
            "+--------------+-----------+-------------+-----------+----+\n",
            "|R3I2DHQBR577SS|          5|            0|          0|   N|\n",
            "|R1QNE9NQFJC2Y4|          5|            0|          0|   N|\n",
            "|R3LIDG2Q4LJBAO|          5|            0|          0|   N|\n",
            "|R3KSZHPAEVPEAL|          5|            0|          0|   N|\n",
            "| RAI2OIG50KZ43|          5|            0|          0|   N|\n",
            "+--------------+-----------+-------------+-----------+----+\n",
            "only showing top 5 rows\n",
            "\n"
          ],
          "name": "stdout"
        }
      ]
    },
    {
      "cell_type": "markdown",
      "metadata": {
        "id": "rE3709buGSVj"
      },
      "source": [
        "Beauty Vine Data Summary and Descriptive Statistics: \r\n"
      ]
    },
    {
      "cell_type": "code",
      "metadata": {
        "colab": {
          "base_uri": "https://localhost:8080/"
        },
        "id": "h8934S1hGyoW",
        "outputId": "c927954f-b217-46d2-8bed-31431f9d30a5"
      },
      "source": [
        "beauty_df2 = beauty_df1.describe(\"star_rating\",\"helpful_votes\", \"total_votes\")\r\n",
        "beauty_df2.show()"
      ],
      "execution_count": 81,
      "outputs": [
        {
          "output_type": "stream",
          "text": [
            "+-------+------------------+------------------+------------------+\n",
            "|summary|       star_rating|     helpful_votes|       total_votes|\n",
            "+-------+------------------+------------------+------------------+\n",
            "|  count|           5115453|           5115452|           5115452|\n",
            "|   mean| 4.187214150382019| 1.708924646346012| 2.163590040528188|\n",
            "| stddev|1.2997552151973897|17.249077699006353|18.433556383382943|\n",
            "|    min|                 1|                 0|                 0|\n",
            "|    max|                 5|             13362|             13636|\n",
            "+-------+------------------+------------------+------------------+\n",
            "\n"
          ],
          "name": "stdout"
        }
      ]
    },
    {
      "cell_type": "markdown",
      "metadata": {
        "id": "alfu5lCT8kbO"
      },
      "source": [
        "\r\n",
        "PAID Reviews Analysis Helpfulness: "
      ]
    },
    {
      "cell_type": "code",
      "metadata": {
        "colab": {
          "base_uri": "https://localhost:8080/"
        },
        "id": "8k2nX6uuinBq",
        "outputId": "d03a8e39-4977-49e5-fcc2-ab6b5ad6eb9d"
      },
      "source": [
        "paid_reviewers = beauty_df1.filter(beauty_df1['vine'] == 'Y')\r\n",
        "paid_reviewers.count()"
      ],
      "execution_count": 95,
      "outputs": [
        {
          "output_type": "execute_result",
          "data": {
            "text/plain": [
              "33309"
            ]
          },
          "metadata": {
            "tags": []
          },
          "execution_count": 95
        }
      ]
    },
    {
      "cell_type": "code",
      "metadata": {
        "colab": {
          "base_uri": "https://localhost:8080/"
        },
        "id": "g-SVZ4eV4eFO",
        "outputId": "ee26725b-3cf6-477e-e1cb-e82b9fa6daba"
      },
      "source": [
        "paid_stats = paid_reviewers.describe(\"star_rating\",\"helpful_votes\", \"total_votes\")\r\n",
        "paid_stats.show()"
      ],
      "execution_count": 96,
      "outputs": [
        {
          "output_type": "stream",
          "text": [
            "+-------+------------------+------------------+------------------+\n",
            "|summary|       star_rating|     helpful_votes|       total_votes|\n",
            "+-------+------------------+------------------+------------------+\n",
            "|  count|             33309|             33309|             33309|\n",
            "|   mean| 4.021435648023057| 2.374253204839533|3.0267195052388245|\n",
            "| stddev|0.9821680026595679|23.471693511283544| 25.44707856479592|\n",
            "|    min|                 1|                 0|                 0|\n",
            "|    max|                 5|              1778|              1827|\n",
            "+-------+------------------+------------------+------------------+\n",
            "\n"
          ],
          "name": "stdout"
        }
      ]
    },
    {
      "cell_type": "code",
      "metadata": {
        "colab": {
          "base_uri": "https://localhost:8080/"
        },
        "id": "MApjfr5V06q_",
        "outputId": "8432d450-5b85-4f1f-ce45-3c5b7d94696e"
      },
      "source": [
        "# Finding the Percentage for helpful_reviews that are based on 'Y' vine Paid reviews \r\n",
        "import pyspark.sql.functions as f\r\n",
        "from pyspark.sql.window import Window\r\n",
        "from pyspark.sql.functions import round\r\n",
        "paid_reviewers = beauty_df1.filter(beauty_df1['vine'] == 'Y')\r\n",
        "df_percent = paid_reviewers.withColumn('paid_percent',f.col('helpful_votes')/f.col('total_votes'))\r\n",
        "df_percent_filtered = df_percent.filter(df_percent['paid_percent'] > .05)\r\n",
        "df_percent_filtered.sort(df_percent_filtered[\"helpful_votes\"], ascending=False).show()"
      ],
      "execution_count": 97,
      "outputs": [
        {
          "output_type": "stream",
          "text": [
            "+--------------+-----------+-------------+-----------+----+------------------+\n",
            "|     review_id|star_rating|helpful_votes|total_votes|vine|      paid_percent|\n",
            "+--------------+-----------+-------------+-----------+----+------------------+\n",
            "|R2GVZP2VX03H24|          4|         1778|       1827|   Y|0.9731800766283525|\n",
            "| R54SQFPUX7ZXZ|          3|         1338|       1362|   Y|0.9823788546255506|\n",
            "|R36R4BR12VTR30|          5|          994|       1196|   Y|0.8311036789297659|\n",
            "| RSQ5772HO77WB|          5|          986|       1021|   Y|0.9657198824681684|\n",
            "|R3PUA3BURP7I1K|          5|          950|        959|   Y|0.9906152241918665|\n",
            "| RGCJVKPPXLQ8K|          4|          863|        953|   Y|0.9055613850996852|\n",
            "|R106V6GUNWRSSS|          5|          857|        889|   Y|0.9640044994375703|\n",
            "|R23S154O5MEJTO|          2|          852|        917|   Y|0.9291166848418757|\n",
            "|R11PCOTB05TIIM|          4|          790|        986|   Y|0.8012170385395537|\n",
            "|R1YUECR5IDRSIT|          4|          735|        762|   Y|0.9645669291338582|\n",
            "|R3FSUHR0UGEH4B|          4|          679|        723|   Y|0.9391424619640387|\n",
            "| RYM2QU8SVF8YA|          4|          622|        656|   Y| 0.948170731707317|\n",
            "| R5Q6NZ66CKQK1|          3|          576|        614|   Y|0.9381107491856677|\n",
            "| RG6RVVO3MAKCH|          3|          517|        719|   Y|0.7190542420027817|\n",
            "|R3K2KYRNTTPO20|          2|          495|        519|   Y| 0.953757225433526|\n",
            "|R3JFTFDED3IGYQ|          4|          493|        554|   Y|0.8898916967509025|\n",
            "|R1EK0ZMP0ZSYME|          5|          470|        514|   Y| 0.914396887159533|\n",
            "| RMYE4J5331ET3|          5|          462|        487|   Y|0.9486652977412731|\n",
            "|R2WBRTHZNQQH5M|          3|          437|        460|   Y|              0.95|\n",
            "|R1ULWS9DVAX9I1|          4|          394|        435|   Y|0.9057471264367816|\n",
            "+--------------+-----------+-------------+-----------+----+------------------+\n",
            "only showing top 20 rows\n",
            "\n"
          ],
          "name": "stdout"
        }
      ]
    },
    {
      "cell_type": "markdown",
      "metadata": {
        "id": "eXyJmUfU8wYr"
      },
      "source": [
        "NOT Paid Reviews Analysis Helpfulness: "
      ]
    },
    {
      "cell_type": "code",
      "metadata": {
        "colab": {
          "base_uri": "https://localhost:8080/"
        },
        "id": "r7ZCmfBetjhg",
        "outputId": "9c616248-e5d2-416f-96d2-0cb3301784c3"
      },
      "source": [
        "unpaid_reviewers = beauty_df1.filter(beauty_df1['vine'] == 'N')\r\n",
        "unpaid_reviewers.count()"
      ],
      "execution_count": 92,
      "outputs": [
        {
          "output_type": "execute_result",
          "data": {
            "text/plain": [
              "5082143"
            ]
          },
          "metadata": {
            "tags": []
          },
          "execution_count": 92
        }
      ]
    },
    {
      "cell_type": "code",
      "metadata": {
        "colab": {
          "base_uri": "https://localhost:8080/"
        },
        "id": "b9h2Huej5L7i",
        "outputId": "a0bf422f-455b-4148-edc3-37b0ca38e5be"
      },
      "source": [
        "unpaid_stats = unpaid_reviewers.describe(\"star_rating\",\"helpful_votes\", \"total_votes\")\r\n",
        "unpaid_stats.show()"
      ],
      "execution_count": 93,
      "outputs": [
        {
          "output_type": "stream",
          "text": [
            "+-------+------------------+------------------+------------------+\n",
            "|summary|       star_rating|     helpful_votes|       total_votes|\n",
            "+-------+------------------+------------------+------------------+\n",
            "|  count|           5082143|           5082143|           5082143|\n",
            "|   mean|4.1883006833928125|1.7045639998717077|2.1579329822084894|\n",
            "| stddev| 1.301511560930214| 17.20078839542214|18.378632432224393|\n",
            "|    min|                 1|                 0|                 0|\n",
            "|    max|                 5|             13362|             13636|\n",
            "+-------+------------------+------------------+------------------+\n",
            "\n"
          ],
          "name": "stdout"
        }
      ]
    },
    {
      "cell_type": "code",
      "metadata": {
        "id": "ZYrpfbY_tV8F",
        "colab": {
          "base_uri": "https://localhost:8080/"
        },
        "outputId": "b1034b7a-15ea-4396-fd0f-150f2bb00a3e"
      },
      "source": [
        "# Finding the Percentage for helpful_reviews that are based on 'N' vine unpaid reviews \r\n",
        "import pyspark.sql.functions as f\r\n",
        "from pyspark.sql.window import Window\r\n",
        "from pyspark.sql.functions import round\r\n",
        "unpaid_reviewers = beauty_df1.filter(beauty_df1['vine'] == 'N')\r\n",
        "df_percent = unpaid_reviewers.withColumn('unpaid_percent',f.col('helpful_votes')/f.col('total_votes'))\r\n",
        "df_percent_filtered = df_percent.filter(df_percent['unpaid_percent'] > .05)\r\n",
        "df_percent_filtered.sort(df_percent_filtered[\"helpful_votes\"], ascending=False).show()"
      ],
      "execution_count": 94,
      "outputs": [
        {
          "output_type": "stream",
          "text": [
            "+--------------+-----------+-------------+-----------+----+------------------+\n",
            "|     review_id|star_rating|helpful_votes|total_votes|vine|    unpaid_percent|\n",
            "+--------------+-----------+-------------+-----------+----+------------------+\n",
            "|R2WXS4OG6MTBUN|          1|        13362|      13636|   N|0.9799061308301554|\n",
            "| R7U56MY458IO9|          4|        10265|      10374|   N|0.9894929631771737|\n",
            "|R2H7SCLBX4FGXJ|          4|         6245|       6382|   N| 0.978533375117518|\n",
            "|R2LI72CVT761C9|          5|         5789|       5895|   N|0.9820186598812553|\n",
            "|R2B9YUBVVDZQ7P|          5|         5693|       5844|   N|0.9741615331964408|\n",
            "|R3AEMZ1NMNAGA2|          5|         4786|       4888|   N|0.9791325695581015|\n",
            "| R1JQ4IMFLNR40|          5|         3994|       4365|   N|0.9150057273768614|\n",
            "| R58XKR9WDXV5X|          1|         3916|       4068|   N|0.9626352015732547|\n",
            "| R2AW92C3VGO9U|          1|         3864|       4266|   N|0.9057665260196905|\n",
            "| RYGFW7WFPOH8G|          1|         3809|       4007|   N|0.9505864736710756|\n",
            "|R3UM7PK8WT0DH1|          5|         3681|       3789|   N|0.9714964370546318|\n",
            "|R3F9G1IIEZW2Z5|          5|         3622|       3722|   N|0.9731327243417518|\n",
            "|R3BD1VR4FNI5W2|          1|         3487|       3600|   N|0.9686111111111111|\n",
            "| RHONKCIB2ITD2|          1|         3355|       3438|   N|0.9758580570098895|\n",
            "|R3KH8BMPJS0OVP|          5|         3354|       3504|   N|0.9571917808219178|\n",
            "|R3N1RNUHEADN19|          5|         3301|       3644|   N|0.9058726673984633|\n",
            "|R2QE1D2IUXBESL|          5|         3096|       3129|   N|0.9894534995206136|\n",
            "| RIDVWLE45YW7I|          5|         3091|       3174|   N|0.9738500315059861|\n",
            "| RRTX7BTXDGJI2|          1|         3035|       3166|   N|0.9586228679722046|\n",
            "|R18K27H2Y265YJ|          1|         2999|       3198|   N|0.9377736085053158|\n",
            "+--------------+-----------+-------------+-----------+----+------------------+\n",
            "only showing top 20 rows\n",
            "\n"
          ],
          "name": "stdout"
        }
      ]
    },
    {
      "cell_type": "code",
      "metadata": {
        "colab": {
          "base_uri": "https://localhost:8080/"
        },
        "id": "3PNC7ZyOkiG-",
        "outputId": "5908a1f6-fdc8-4335-a050-c8c4c8a21f6c"
      },
      "source": [
        "paid_reviewers = beauty_df1.filter(beauty_df1['vine'] == 'Y')\r\n",
        "Paid_FiveStar_Votes = paid_reviewers.filter(beauty_df1['star_rating'] == 5)\r\n",
        "Paid_FiveStar_Votes.count()"
      ],
      "execution_count": 130,
      "outputs": [
        {
          "output_type": "execute_result",
          "data": {
            "text/plain": [
              "12429"
            ]
          },
          "metadata": {
            "tags": []
          },
          "execution_count": 130
        }
      ]
    },
    {
      "cell_type": "code",
      "metadata": {
        "colab": {
          "base_uri": "https://localhost:8080/"
        },
        "id": "JKV_vAjGCYwX",
        "outputId": "adefbfb7-9a37-4f75-d47a-1dc84ed7778a"
      },
      "source": [
        "# Finding the Percentage of 5-Star reviews are based on 'Y' vine paid reviews \r\n",
        "# What % of Y vine = 5star \r\n",
        "import pyspark.sql.functions as f\r\n",
        "from pyspark.sql.window import Window\r\n",
        "from pyspark.sql.functions import round\r\n",
        "Paid_FiveStar_Votes = paid_reviewers.filter(beauty_df1['star_rating'] == 5)\r\n",
        "paid_percent = Paid_FiveStar_Votes.withColumn('paid_percent',f.col('helpful_votes')/f.col('total_votes'))\r\n",
        "paid_percent_filtered = paid_percent.filter(paid_percent['paid_percent'] > .05)\r\n",
        "paid_percent_filtered.sort(paid_percent_filtered[\"helpful_votes\"], ascending=False).show()"
      ],
      "execution_count": 134,
      "outputs": [
        {
          "output_type": "stream",
          "text": [
            "+--------------+-----------+-------------+-----------+----+------------------+\n",
            "|     review_id|star_rating|helpful_votes|total_votes|vine|      paid_percent|\n",
            "+--------------+-----------+-------------+-----------+----+------------------+\n",
            "|R36R4BR12VTR30|          5|          994|       1196|   Y|0.8311036789297659|\n",
            "| RSQ5772HO77WB|          5|          986|       1021|   Y|0.9657198824681684|\n",
            "|R3PUA3BURP7I1K|          5|          950|        959|   Y|0.9906152241918665|\n",
            "|R106V6GUNWRSSS|          5|          857|        889|   Y|0.9640044994375703|\n",
            "|R1EK0ZMP0ZSYME|          5|          470|        514|   Y| 0.914396887159533|\n",
            "| RMYE4J5331ET3|          5|          462|        487|   Y|0.9486652977412731|\n",
            "|R2F4KBBD3MTMKP|          5|          390|        423|   Y|0.9219858156028369|\n",
            "| RHWGXN7QI3RZV|          5|          313|        322|   Y|0.9720496894409938|\n",
            "|R1Y4OY1LZ29JO7|          5|          299|        308|   Y|0.9707792207792207|\n",
            "|R11IYWLYRH2M02|          5|          292|        318|   Y|0.9182389937106918|\n",
            "| R6BUDHIVMVGX9|          5|          264|        279|   Y| 0.946236559139785|\n",
            "|R320USCT7RR3UO|          5|          244|        274|   Y|0.8905109489051095|\n",
            "|R1NHWDYZV6ODCE|          5|          232|        251|   Y|0.9243027888446215|\n",
            "|R240RCPYC141MW|          5|          227|        279|   Y|0.8136200716845878|\n",
            "|R1Q6QL9ASNFRAO|          5|          204|        223|   Y|0.9147982062780269|\n",
            "| RK5Q6L18TC3OA|          5|          203|        211|   Y|0.9620853080568721|\n",
            "|R2HZJCLV0UVBTW|          5|          199|        208|   Y|0.9567307692307693|\n",
            "| RRMQGFVCGSVXS|          5|          198|        207|   Y|0.9565217391304348|\n",
            "| RQX3RHGMG7UBN|          5|          186|        200|   Y|              0.93|\n",
            "|R13NFINT3SYHIY|          5|          185|        209|   Y|0.8851674641148325|\n",
            "+--------------+-----------+-------------+-----------+----+------------------+\n",
            "only showing top 20 rows\n",
            "\n"
          ],
          "name": "stdout"
        }
      ]
    },
    {
      "cell_type": "code",
      "metadata": {
        "colab": {
          "base_uri": "https://localhost:8080/"
        },
        "id": "gzVDBcYzpCIQ",
        "outputId": "9c727758-ca93-47d8-a1bf-7c21b20d4200"
      },
      "source": [
        "unpaid_reviewers = beauty_df1.filter(beauty_df1['vine'] == 'N')\r\n",
        "Unpaid_FiveStar_Votes = unpaid_reviewers.filter(beauty_df1['star_rating'] == 5)\r\n",
        "Unpaid_FiveStar_Votes.count()"
      ],
      "execution_count": 109,
      "outputs": [
        {
          "output_type": "execute_result",
          "data": {
            "text/plain": [
              "3242324"
            ]
          },
          "metadata": {
            "tags": []
          },
          "execution_count": 109
        }
      ]
    },
    {
      "cell_type": "code",
      "metadata": {
        "colab": {
          "base_uri": "https://localhost:8080/"
        },
        "id": "rgRrYXXy_4vp",
        "outputId": "607ac470-5f0b-45d3-f81e-f17d086456f0"
      },
      "source": [
        "# Finding the Percentage of 5-Star reviews are based on 'N' vine paid reviews \r\n",
        "# What % of N vine = 5star \r\n",
        "import pyspark.sql.functions as f\r\n",
        "from pyspark.sql.window import Window\r\n",
        "from pyspark.sql.functions import round\r\n",
        "Unpaid_FiveStar_Votes = unpaid_reviewers.filter(beauty_df1['star_rating'] == 5)\r\n",
        "Unpaid_percent = Unpaid_FiveStar_Votes.withColumn('unpaid_percent',f.col('helpful_votes')/f.col('total_votes'))\r\n",
        "Unpaid_percent_filtered = Unpaid_percent.filter(Unpaid_percent['unpaid_percent'] > .05)\r\n",
        "Unpaid_percent_filtered.sort(Unpaid_percent_filtered[\"helpful_votes\"], ascending=False).show()"
      ],
      "execution_count": 110,
      "outputs": [
        {
          "output_type": "stream",
          "text": [
            "+--------------+-----------+-------------+-----------+----+------------------+\n",
            "|     review_id|star_rating|helpful_votes|total_votes|vine|    unpaid_percent|\n",
            "+--------------+-----------+-------------+-----------+----+------------------+\n",
            "|R2LI72CVT761C9|          5|         5789|       5895|   N|0.9820186598812553|\n",
            "|R2B9YUBVVDZQ7P|          5|         5693|       5844|   N|0.9741615331964408|\n",
            "|R3AEMZ1NMNAGA2|          5|         4786|       4888|   N|0.9791325695581015|\n",
            "| R1JQ4IMFLNR40|          5|         3994|       4365|   N|0.9150057273768614|\n",
            "|R3UM7PK8WT0DH1|          5|         3681|       3789|   N|0.9714964370546318|\n",
            "|R3F9G1IIEZW2Z5|          5|         3622|       3722|   N|0.9731327243417518|\n",
            "|R3KH8BMPJS0OVP|          5|         3354|       3504|   N|0.9571917808219178|\n",
            "|R3N1RNUHEADN19|          5|         3301|       3644|   N|0.9058726673984633|\n",
            "|R2QE1D2IUXBESL|          5|         3096|       3129|   N|0.9894534995206136|\n",
            "| RIDVWLE45YW7I|          5|         3091|       3174|   N|0.9738500315059861|\n",
            "|R2QCKJU4VHYP9V|          5|         2946|       3089|   N|0.9537067011977987|\n",
            "|R25FJRFVGG7KTD|          5|         2919|       3038|   N|0.9608294930875576|\n",
            "|R3L92ENSE5G6JC|          5|         2826|       2890|   N|0.9778546712802768|\n",
            "|R25QYMFNK7B4P2|          5|         2690|       2992|   N|0.8990641711229946|\n",
            "|R2HEG12C48KXPW|          5|         2663|       2775|   N|0.9596396396396396|\n",
            "| RP6UHA5MDHH3M|          5|         2598|       2827|   N|0.9189954014856738|\n",
            "|R1FEGFJ8MB8IEZ|          5|         2581|       2757|   N|0.9361624954660863|\n",
            "|R31H67AMM7XGC9|          5|         2549|       2928|   N|0.8705601092896175|\n",
            "| ROD92GRXXB6AE|          5|         2408|       2602|   N|0.9254419677171407|\n",
            "| RMAQEBAAFX8ZE|          5|         2299|       2349|   N|0.9787143465304385|\n",
            "+--------------+-----------+-------------+-----------+----+------------------+\n",
            "only showing top 20 rows\n",
            "\n"
          ],
          "name": "stdout"
        }
      ]
    },
    {
      "cell_type": "markdown",
      "metadata": {
        "id": "h9ahAzbUFhot"
      },
      "source": [
        "BOOKS Vine Table"
      ]
    },
    {
      "cell_type": "code",
      "metadata": {
        "id": "EVgMXShaFU59"
      },
      "source": [
        "#Configure settings for RDS\r\n",
        "jdbc_url=\"jdbc:postgresql://postgres.cxyspgwfkz9n.us-east-2.rds.amazonaws.com:5432/postgres\" # copied Endpoint & /database name goes here\r\n",
        "config = {\"user\":\"root\", \r\n",
        "          \"password\": \"class2021\", \r\n",
        "          \"driver\":\"org.postgresql.Driver\"}"
      ],
      "execution_count": 111,
      "outputs": []
    },
    {
      "cell_type": "code",
      "metadata": {
        "colab": {
          "base_uri": "https://localhost:8080/"
        },
        "id": "MV1Qac67FY1z",
        "outputId": "33b9a079-9c77-43cb-c5d1-8299e2c881d8"
      },
      "source": [
        "# Read vine table in RDS to vine_df SparkDataframe\r\n",
        "books_df = spark.read.jdbc(url=jdbc_url, table='vine_table', properties=config)\r\n",
        "books_df.show(5)"
      ],
      "execution_count": 112,
      "outputs": [
        {
          "output_type": "stream",
          "text": [
            "+--------------+-----------+-------------+-----------+----+\n",
            "|     review_id|star_rating|helpful_votes|total_votes|vine|\n",
            "+--------------+-----------+-------------+-----------+----+\n",
            "| RQ58W7SMO911M|          4|            2|          3|   N|\n",
            "|  RF6IUKMGL8SF|          3|            5|          5|   N|\n",
            "|R1DOSHH6AI622S|          4|            1|         22|   N|\n",
            "| RATOTLA3OF70O|          5|            2|          2|   N|\n",
            "|R1TNWRKIVHVYOV|          4|            0|          2|   N|\n",
            "+--------------+-----------+-------------+-----------+----+\n",
            "only showing top 5 rows\n",
            "\n"
          ],
          "name": "stdout"
        }
      ]
    },
    {
      "cell_type": "markdown",
      "metadata": {
        "id": "0sar6IhPlw0i"
      },
      "source": [
        "Books Vine Data Summary and Descriptive Statistics: "
      ]
    },
    {
      "cell_type": "code",
      "metadata": {
        "colab": {
          "base_uri": "https://localhost:8080/"
        },
        "id": "P3zPwg054k4u",
        "outputId": "c1858958-3c2c-4e99-81b8-cb290b4c83d2"
      },
      "source": [
        "books_stats = books_df.describe(\"star_rating\",\"helpful_votes\", \"total_votes\")\r\n",
        "books_stats.show()"
      ],
      "execution_count": 113,
      "outputs": [
        {
          "output_type": "stream",
          "text": [
            "+-------+------------------+----------------+------------------+\n",
            "|summary|       star_rating|   helpful_votes|       total_votes|\n",
            "+-------+------------------+----------------+------------------+\n",
            "|  count|           3105515|         3105515|           3105515|\n",
            "|   mean| 4.182722672406992|9.33469038146652|12.400078891906817|\n",
            "| stddev|1.2458976835774067|26.2239470287692| 30.24433583508727|\n",
            "|    min|                 1|               0|                 0|\n",
            "|    max|                 5|           15835|             16352|\n",
            "+-------+------------------+----------------+------------------+\n",
            "\n"
          ],
          "name": "stdout"
        }
      ]
    },
    {
      "cell_type": "code",
      "metadata": {
        "colab": {
          "base_uri": "https://localhost:8080/"
        },
        "id": "a5eoBYaHQC_t",
        "outputId": "56a65707-a8c0-4724-ac2b-85e2f628fdca"
      },
      "source": [
        "from pyspark.sql.functions import round\r\n",
        "FiveStar_count = books_df[books_df['star_rating']== 5].count()\r\n",
        "FiveStar_vote = books_df.groupBy(\"helpful_votes\").count() \r\n",
        "FiveStar_vote  = FiveStar_vote.orderBy(FiveStar_vote[\"count\"].desc())\r\n",
        "FiveStar_vote .withColumn('percentage', round(FiveStar_vote[\"count\"]/FiveStar_count,3)).show()"
      ],
      "execution_count": 124,
      "outputs": [
        {
          "output_type": "stream",
          "text": [
            "+-------------+------+----------+\n",
            "|helpful_votes| count|percentage|\n",
            "+-------------+------+----------+\n",
            "|            0|459923|     0.247|\n",
            "|            1|408855|     0.219|\n",
            "|            2|333718|     0.179|\n",
            "|            3|269067|     0.144|\n",
            "|            4|215443|     0.116|\n",
            "|            5|176301|     0.095|\n",
            "|            6|144403|     0.077|\n",
            "|            7|120318|     0.065|\n",
            "|            8|101095|     0.054|\n",
            "|            9| 85924|     0.046|\n",
            "|           10| 73994|      0.04|\n",
            "|           11| 64172|     0.034|\n",
            "|           12| 56530|      0.03|\n",
            "|           13| 50035|     0.027|\n",
            "|           14| 43759|     0.023|\n",
            "|           15| 38900|     0.021|\n",
            "|           16| 34403|     0.018|\n",
            "|           17| 30954|     0.017|\n",
            "|           18| 27856|     0.015|\n",
            "|           19| 24957|     0.013|\n",
            "+-------------+------+----------+\n",
            "only showing top 20 rows\n",
            "\n"
          ],
          "name": "stdout"
        }
      ]
    },
    {
      "cell_type": "code",
      "metadata": {
        "colab": {
          "base_uri": "https://localhost:8080/"
        },
        "id": "dDizXLdyj6YY",
        "outputId": "ccd292b9-507a-4930-d6ca-cf63ca4cfcc1"
      },
      "source": [
        "beauty_vine_df = beauty_vine_df.filter(beauty_vine_df['total_votes'] >= 20)\r\n",
        "beauty_vine_df.show(5)"
      ],
      "execution_count": null,
      "outputs": [
        {
          "output_type": "stream",
          "text": [
            "+--------------+-----------+-------------+-----------+----+\n",
            "|     review_id|star_rating|helpful_votes|total_votes|vine|\n",
            "+--------------+-----------+-------------+-----------+----+\n",
            "|R2QRUE9REK8OUC|          5|           18|         23|   N|\n",
            "|R2POXRW6PXHXZG|          5|           25|         30|   N|\n",
            "| RZN43XRZ89IIJ|          3|           10|         27|   N|\n",
            "|R29Q748WSHZ3SN|          5|           23|         24|   N|\n",
            "| R46UL5G5HEPRZ|          5|           18|         20|   N|\n",
            "+--------------+-----------+-------------+-----------+----+\n",
            "only showing top 5 rows\n",
            "\n"
          ],
          "name": "stdout"
        }
      ]
    },
    {
      "cell_type": "code",
      "metadata": {
        "id": "qBsnlEbRVSVK",
        "colab": {
          "base_uri": "https://localhost:8080/"
        },
        "outputId": "d5b51adf-dec8-4aa7-f3ae-aaf9bd56f461"
      },
      "source": [
        "paid_reviewers = books_df.filter(books_df['vine'] == 'Y')\r\n",
        "paid_stats = paid_reviewers.describe(\"star_rating\",\"helpful_votes\", \"total_votes\")\r\n",
        "paid_stats.show()"
      ],
      "execution_count": 128,
      "outputs": [
        {
          "output_type": "stream",
          "text": [
            "+-------+------------------+-------------+------------------+\n",
            "|summary|       star_rating|helpful_votes|       total_votes|\n",
            "+-------+------------------+-------------+------------------+\n",
            "|  count|                 2|            2|                 2|\n",
            "|   mean|               4.5|          3.0|               4.5|\n",
            "| stddev|0.7071067811865476|          0.0|2.1213203435596424|\n",
            "|    min|                 4|            3|                 3|\n",
            "|    max|                 5|            3|                 6|\n",
            "+-------+------------------+-------------+------------------+\n",
            "\n"
          ],
          "name": "stdout"
        }
      ]
    },
    {
      "cell_type": "code",
      "metadata": {
        "colab": {
          "base_uri": "https://localhost:8080/"
        },
        "id": "gCzUkwk5-F_j",
        "outputId": "e1bef371-dd72-4f37-8521-d8c23a46df16"
      },
      "source": [
        "unpaid_reviewers = books_df.filter(books_df['vine'] == 'N')\r\n",
        "unpaid_stats = unpaid_reviewers.describe(\"star_rating\",\"helpful_votes\", \"total_votes\")\r\n",
        "unpaid_stats.show()"
      ],
      "execution_count": 129,
      "outputs": [
        {
          "output_type": "stream",
          "text": [
            "+-------+------------------+-----------------+------------------+\n",
            "|summary|       star_rating|    helpful_votes|       total_votes|\n",
            "+-------+------------------+-----------------+------------------+\n",
            "|  count|           3105513|          3105513|           3105513|\n",
            "|   mean|4.1827224680753226|9.334694461108358|12.400083979683872|\n",
            "| stddev| 1.245897994135481| 26.2239549803491|30.244344885565138|\n",
            "|    min|                 1|                0|                 0|\n",
            "|    max|                 5|            15835|             16352|\n",
            "+-------+------------------+-----------------+------------------+\n",
            "\n"
          ],
          "name": "stdout"
        }
      ]
    }
  ]
}